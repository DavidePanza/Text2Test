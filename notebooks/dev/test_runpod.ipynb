{
 "cells": [
  {
   "cell_type": "code",
   "execution_count": null,
   "id": "38a16086",
   "metadata": {},
   "outputs": [],
   "source": [
    "curl -X POST https://api.runpod.ai/v2/hmje50gz4lr97c/run \\\n",
    "    -H 'Content-Type: application/json' \\\n",
    "    -H 'Authorization: Bearer YOUR_API_KEY' \\\n",
    "    -d '{\"input\":{\"prompt\":\"Your prompt\"}}'"
   ]
  }
 ],
 "metadata": {
  "language_info": {
   "name": "python"
  }
 },
 "nbformat": 4,
 "nbformat_minor": 5
}
